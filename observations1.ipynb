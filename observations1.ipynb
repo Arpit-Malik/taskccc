{
  "nbformat": 4,
  "nbformat_minor": 0,
  "metadata": {
    "colab": {
      "provenance": [],
      "collapsed_sections": [],
      "authorship_tag": "ABX9TyPKLyN57BtsYs8Bfqe7B5XE",
      "include_colab_link": true
    },
    "kernelspec": {
      "name": "python3",
      "display_name": "Python 3"
    },
    "language_info": {
      "name": "python"
    }
  },
  "cells": [
    {
      "cell_type": "markdown",
      "metadata": {
        "id": "view-in-github",
        "colab_type": "text"
      },
      "source": [
        "<a href=\"https://colab.research.google.com/github/Arpit2221/taskccc/blob/master/observations1.ipynb\" target=\"_parent\"><img src=\"https://colab.research.google.com/assets/colab-badge.svg\" alt=\"Open In Colab\"/></a>"
      ]
    },
    {
      "cell_type": "markdown",
      "source": [
        "**Here tried to do some observations/insights on crimes dataset.**"
      ],
      "metadata": {
        "id": "LqYhBlT56U0R"
      }
    },
    {
      "cell_type": "code",
      "source": [
        "from google.colab import drive"
      ],
      "metadata": {
        "id": "qNQ5hby_7G1m"
      },
      "execution_count": null,
      "outputs": []
    },
    {
      "cell_type": "code",
      "source": [
        "drive.mount('/content/drive')"
      ],
      "metadata": {
        "colab": {
          "base_uri": "https://localhost:8080/"
        },
        "id": "FjeTEDR47GGa",
        "outputId": "91c58728-defc-4722-8bd4-4af749e72fb6"
      },
      "execution_count": null,
      "outputs": [
        {
          "output_type": "stream",
          "name": "stdout",
          "text": [
            "Mounted at /content/drive\n"
          ]
        }
      ]
    },
    {
      "cell_type": "code",
      "execution_count": null,
      "metadata": {
        "id": "95nLK8Wr6HPk"
      },
      "outputs": [],
      "source": [
        "import pandas as pd\n",
        "import numpy as np\n",
        "import matplotlib.pyplot as plt\n",
        "import seaborn as sns\n",
        "%matplotlib inline"
      ]
    },
    {
      "cell_type": "code",
      "source": [
        "data = pd.read_csv('/content/drive/MyDrive/Crimes_In_India_2001_2012.csv')"
      ],
      "metadata": {
        "id": "1-5EfYq06rs6"
      },
      "execution_count": null,
      "outputs": []
    },
    {
      "cell_type": "code",
      "source": [
        "data.head()"
      ],
      "metadata": {
        "colab": {
          "base_uri": "https://localhost:8080/",
          "height": 525
        },
        "id": "z1K0k5an7bZx",
        "outputId": "034b0a32-113c-4301-cc31-e4f457ba0e72"
      },
      "execution_count": null,
      "outputs": [
        {
          "output_type": "execute_result",
          "data": {
            "text/plain": [
              "         STATE/UT       DISTRICT  YEAR  MURDER  ATTEMPT TO MURDER  \\\n",
              "0  ANDHRA PRADESH       ADILABAD  2001     101                 60   \n",
              "1  ANDHRA PRADESH      ANANTAPUR  2001     151                125   \n",
              "2  ANDHRA PRADESH       CHITTOOR  2001     101                 57   \n",
              "3  ANDHRA PRADESH       CUDDAPAH  2001      80                 53   \n",
              "4  ANDHRA PRADESH  EAST GODAVARI  2001      82                 67   \n",
              "\n",
              "   CULPABLE HOMICIDE NOT AMOUNTING TO MURDER  RAPE  CUSTODIAL RAPE  \\\n",
              "0                                         17    50               0   \n",
              "1                                          1    23               0   \n",
              "2                                          2    27               0   \n",
              "3                                          1    20               0   \n",
              "4                                          1    23               0   \n",
              "\n",
              "   OTHER RAPE  KIDNAPPING & ABDUCTION  ...  ARSON  HURT/GREVIOUS HURT  \\\n",
              "0          50                      46  ...     30                1131   \n",
              "1          23                      53  ...     69                1543   \n",
              "2          27                      59  ...     38                2088   \n",
              "3          20                      25  ...     23                 795   \n",
              "4          23                      49  ...     41                1244   \n",
              "\n",
              "   DOWRY DEATHS  ASSAULT ON WOMEN WITH INTENT TO OUTRAGE HER MODESTY  \\\n",
              "0            16                                                149     \n",
              "1             7                                                118     \n",
              "2            14                                                112     \n",
              "3            17                                                126     \n",
              "4            12                                                109     \n",
              "\n",
              "   INSULT TO MODESTY OF WOMEN  CRUELTY BY HUSBAND OR HIS RELATIVES  \\\n",
              "0                          34                                  175   \n",
              "1                          24                                  154   \n",
              "2                          83                                  186   \n",
              "3                          38                                   57   \n",
              "4                          58                                  247   \n",
              "\n",
              "   IMPORTATION OF GIRLS FROM FOREIGN COUNTRIES  CAUSING DEATH BY NEGLIGENCE  \\\n",
              "0                                            0                          181   \n",
              "1                                            0                          270   \n",
              "2                                            0                          404   \n",
              "3                                            0                          233   \n",
              "4                                            0                          431   \n",
              "\n",
              "   OTHER IPC CRIMES  TOTAL IPC CRIMES  \n",
              "0              1518              4154  \n",
              "1               754              4125  \n",
              "2              1262              5818  \n",
              "3              1181              3140  \n",
              "4              2313              6507  \n",
              "\n",
              "[5 rows x 33 columns]"
            ],
            "text/html": [
              "\n",
              "  <div id=\"df-3dc13c18-db2e-4461-9e66-26b1d9dbb2c8\">\n",
              "    <div class=\"colab-df-container\">\n",
              "      <div>\n",
              "<style scoped>\n",
              "    .dataframe tbody tr th:only-of-type {\n",
              "        vertical-align: middle;\n",
              "    }\n",
              "\n",
              "    .dataframe tbody tr th {\n",
              "        vertical-align: top;\n",
              "    }\n",
              "\n",
              "    .dataframe thead th {\n",
              "        text-align: right;\n",
              "    }\n",
              "</style>\n",
              "<table border=\"1\" class=\"dataframe\">\n",
              "  <thead>\n",
              "    <tr style=\"text-align: right;\">\n",
              "      <th></th>\n",
              "      <th>STATE/UT</th>\n",
              "      <th>DISTRICT</th>\n",
              "      <th>YEAR</th>\n",
              "      <th>MURDER</th>\n",
              "      <th>ATTEMPT TO MURDER</th>\n",
              "      <th>CULPABLE HOMICIDE NOT AMOUNTING TO MURDER</th>\n",
              "      <th>RAPE</th>\n",
              "      <th>CUSTODIAL RAPE</th>\n",
              "      <th>OTHER RAPE</th>\n",
              "      <th>KIDNAPPING &amp; ABDUCTION</th>\n",
              "      <th>...</th>\n",
              "      <th>ARSON</th>\n",
              "      <th>HURT/GREVIOUS HURT</th>\n",
              "      <th>DOWRY DEATHS</th>\n",
              "      <th>ASSAULT ON WOMEN WITH INTENT TO OUTRAGE HER MODESTY</th>\n",
              "      <th>INSULT TO MODESTY OF WOMEN</th>\n",
              "      <th>CRUELTY BY HUSBAND OR HIS RELATIVES</th>\n",
              "      <th>IMPORTATION OF GIRLS FROM FOREIGN COUNTRIES</th>\n",
              "      <th>CAUSING DEATH BY NEGLIGENCE</th>\n",
              "      <th>OTHER IPC CRIMES</th>\n",
              "      <th>TOTAL IPC CRIMES</th>\n",
              "    </tr>\n",
              "  </thead>\n",
              "  <tbody>\n",
              "    <tr>\n",
              "      <th>0</th>\n",
              "      <td>ANDHRA PRADESH</td>\n",
              "      <td>ADILABAD</td>\n",
              "      <td>2001</td>\n",
              "      <td>101</td>\n",
              "      <td>60</td>\n",
              "      <td>17</td>\n",
              "      <td>50</td>\n",
              "      <td>0</td>\n",
              "      <td>50</td>\n",
              "      <td>46</td>\n",
              "      <td>...</td>\n",
              "      <td>30</td>\n",
              "      <td>1131</td>\n",
              "      <td>16</td>\n",
              "      <td>149</td>\n",
              "      <td>34</td>\n",
              "      <td>175</td>\n",
              "      <td>0</td>\n",
              "      <td>181</td>\n",
              "      <td>1518</td>\n",
              "      <td>4154</td>\n",
              "    </tr>\n",
              "    <tr>\n",
              "      <th>1</th>\n",
              "      <td>ANDHRA PRADESH</td>\n",
              "      <td>ANANTAPUR</td>\n",
              "      <td>2001</td>\n",
              "      <td>151</td>\n",
              "      <td>125</td>\n",
              "      <td>1</td>\n",
              "      <td>23</td>\n",
              "      <td>0</td>\n",
              "      <td>23</td>\n",
              "      <td>53</td>\n",
              "      <td>...</td>\n",
              "      <td>69</td>\n",
              "      <td>1543</td>\n",
              "      <td>7</td>\n",
              "      <td>118</td>\n",
              "      <td>24</td>\n",
              "      <td>154</td>\n",
              "      <td>0</td>\n",
              "      <td>270</td>\n",
              "      <td>754</td>\n",
              "      <td>4125</td>\n",
              "    </tr>\n",
              "    <tr>\n",
              "      <th>2</th>\n",
              "      <td>ANDHRA PRADESH</td>\n",
              "      <td>CHITTOOR</td>\n",
              "      <td>2001</td>\n",
              "      <td>101</td>\n",
              "      <td>57</td>\n",
              "      <td>2</td>\n",
              "      <td>27</td>\n",
              "      <td>0</td>\n",
              "      <td>27</td>\n",
              "      <td>59</td>\n",
              "      <td>...</td>\n",
              "      <td>38</td>\n",
              "      <td>2088</td>\n",
              "      <td>14</td>\n",
              "      <td>112</td>\n",
              "      <td>83</td>\n",
              "      <td>186</td>\n",
              "      <td>0</td>\n",
              "      <td>404</td>\n",
              "      <td>1262</td>\n",
              "      <td>5818</td>\n",
              "    </tr>\n",
              "    <tr>\n",
              "      <th>3</th>\n",
              "      <td>ANDHRA PRADESH</td>\n",
              "      <td>CUDDAPAH</td>\n",
              "      <td>2001</td>\n",
              "      <td>80</td>\n",
              "      <td>53</td>\n",
              "      <td>1</td>\n",
              "      <td>20</td>\n",
              "      <td>0</td>\n",
              "      <td>20</td>\n",
              "      <td>25</td>\n",
              "      <td>...</td>\n",
              "      <td>23</td>\n",
              "      <td>795</td>\n",
              "      <td>17</td>\n",
              "      <td>126</td>\n",
              "      <td>38</td>\n",
              "      <td>57</td>\n",
              "      <td>0</td>\n",
              "      <td>233</td>\n",
              "      <td>1181</td>\n",
              "      <td>3140</td>\n",
              "    </tr>\n",
              "    <tr>\n",
              "      <th>4</th>\n",
              "      <td>ANDHRA PRADESH</td>\n",
              "      <td>EAST GODAVARI</td>\n",
              "      <td>2001</td>\n",
              "      <td>82</td>\n",
              "      <td>67</td>\n",
              "      <td>1</td>\n",
              "      <td>23</td>\n",
              "      <td>0</td>\n",
              "      <td>23</td>\n",
              "      <td>49</td>\n",
              "      <td>...</td>\n",
              "      <td>41</td>\n",
              "      <td>1244</td>\n",
              "      <td>12</td>\n",
              "      <td>109</td>\n",
              "      <td>58</td>\n",
              "      <td>247</td>\n",
              "      <td>0</td>\n",
              "      <td>431</td>\n",
              "      <td>2313</td>\n",
              "      <td>6507</td>\n",
              "    </tr>\n",
              "  </tbody>\n",
              "</table>\n",
              "<p>5 rows × 33 columns</p>\n",
              "</div>\n",
              "      <button class=\"colab-df-convert\" onclick=\"convertToInteractive('df-3dc13c18-db2e-4461-9e66-26b1d9dbb2c8')\"\n",
              "              title=\"Convert this dataframe to an interactive table.\"\n",
              "              style=\"display:none;\">\n",
              "        \n",
              "  <svg xmlns=\"http://www.w3.org/2000/svg\" height=\"24px\"viewBox=\"0 0 24 24\"\n",
              "       width=\"24px\">\n",
              "    <path d=\"M0 0h24v24H0V0z\" fill=\"none\"/>\n",
              "    <path d=\"M18.56 5.44l.94 2.06.94-2.06 2.06-.94-2.06-.94-.94-2.06-.94 2.06-2.06.94zm-11 1L8.5 8.5l.94-2.06 2.06-.94-2.06-.94L8.5 2.5l-.94 2.06-2.06.94zm10 10l.94 2.06.94-2.06 2.06-.94-2.06-.94-.94-2.06-.94 2.06-2.06.94z\"/><path d=\"M17.41 7.96l-1.37-1.37c-.4-.4-.92-.59-1.43-.59-.52 0-1.04.2-1.43.59L10.3 9.45l-7.72 7.72c-.78.78-.78 2.05 0 2.83L4 21.41c.39.39.9.59 1.41.59.51 0 1.02-.2 1.41-.59l7.78-7.78 2.81-2.81c.8-.78.8-2.07 0-2.86zM5.41 20L4 18.59l7.72-7.72 1.47 1.35L5.41 20z\"/>\n",
              "  </svg>\n",
              "      </button>\n",
              "      \n",
              "  <style>\n",
              "    .colab-df-container {\n",
              "      display:flex;\n",
              "      flex-wrap:wrap;\n",
              "      gap: 12px;\n",
              "    }\n",
              "\n",
              "    .colab-df-convert {\n",
              "      background-color: #E8F0FE;\n",
              "      border: none;\n",
              "      border-radius: 50%;\n",
              "      cursor: pointer;\n",
              "      display: none;\n",
              "      fill: #1967D2;\n",
              "      height: 32px;\n",
              "      padding: 0 0 0 0;\n",
              "      width: 32px;\n",
              "    }\n",
              "\n",
              "    .colab-df-convert:hover {\n",
              "      background-color: #E2EBFA;\n",
              "      box-shadow: 0px 1px 2px rgba(60, 64, 67, 0.3), 0px 1px 3px 1px rgba(60, 64, 67, 0.15);\n",
              "      fill: #174EA6;\n",
              "    }\n",
              "\n",
              "    [theme=dark] .colab-df-convert {\n",
              "      background-color: #3B4455;\n",
              "      fill: #D2E3FC;\n",
              "    }\n",
              "\n",
              "    [theme=dark] .colab-df-convert:hover {\n",
              "      background-color: #434B5C;\n",
              "      box-shadow: 0px 1px 3px 1px rgba(0, 0, 0, 0.15);\n",
              "      filter: drop-shadow(0px 1px 2px rgba(0, 0, 0, 0.3));\n",
              "      fill: #FFFFFF;\n",
              "    }\n",
              "  </style>\n",
              "\n",
              "      <script>\n",
              "        const buttonEl =\n",
              "          document.querySelector('#df-3dc13c18-db2e-4461-9e66-26b1d9dbb2c8 button.colab-df-convert');\n",
              "        buttonEl.style.display =\n",
              "          google.colab.kernel.accessAllowed ? 'block' : 'none';\n",
              "\n",
              "        async function convertToInteractive(key) {\n",
              "          const element = document.querySelector('#df-3dc13c18-db2e-4461-9e66-26b1d9dbb2c8');\n",
              "          const dataTable =\n",
              "            await google.colab.kernel.invokeFunction('convertToInteractive',\n",
              "                                                     [key], {});\n",
              "          if (!dataTable) return;\n",
              "\n",
              "          const docLinkHtml = 'Like what you see? Visit the ' +\n",
              "            '<a target=\"_blank\" href=https://colab.research.google.com/notebooks/data_table.ipynb>data table notebook</a>'\n",
              "            + ' to learn more about interactive tables.';\n",
              "          element.innerHTML = '';\n",
              "          dataTable['output_type'] = 'display_data';\n",
              "          await google.colab.output.renderOutput(dataTable, element);\n",
              "          const docLink = document.createElement('div');\n",
              "          docLink.innerHTML = docLinkHtml;\n",
              "          element.appendChild(docLink);\n",
              "        }\n",
              "      </script>\n",
              "    </div>\n",
              "  </div>\n",
              "  "
            ]
          },
          "metadata": {},
          "execution_count": 8
        }
      ]
    },
    {
      "cell_type": "code",
      "source": [
        "data.columns"
      ],
      "metadata": {
        "colab": {
          "base_uri": "https://localhost:8080/"
        },
        "id": "mAg8r1pU7oJ9",
        "outputId": "4eef77e0-ad6d-45d6-d05f-61f2765a1ca0"
      },
      "execution_count": null,
      "outputs": [
        {
          "output_type": "execute_result",
          "data": {
            "text/plain": [
              "Index(['STATE/UT', 'DISTRICT', 'YEAR', 'MURDER', 'ATTEMPT TO MURDER',\n",
              "       'CULPABLE HOMICIDE NOT AMOUNTING TO MURDER', 'RAPE', 'CUSTODIAL RAPE',\n",
              "       'OTHER RAPE', 'KIDNAPPING & ABDUCTION',\n",
              "       'KIDNAPPING AND ABDUCTION OF WOMEN AND GIRLS',\n",
              "       'KIDNAPPING AND ABDUCTION OF OTHERS', 'DACOITY',\n",
              "       'PREPARATION AND ASSEMBLY FOR DACOITY', 'ROBBERY', 'BURGLARY', 'THEFT',\n",
              "       'AUTO THEFT', 'OTHER THEFT', 'RIOTS', 'CRIMINAL BREACH OF TRUST',\n",
              "       'CHEATING', 'COUNTERFIETING', 'ARSON', 'HURT/GREVIOUS HURT',\n",
              "       'DOWRY DEATHS', 'ASSAULT ON WOMEN WITH INTENT TO OUTRAGE HER MODESTY',\n",
              "       'INSULT TO MODESTY OF WOMEN', 'CRUELTY BY HUSBAND OR HIS RELATIVES',\n",
              "       'IMPORTATION OF GIRLS FROM FOREIGN COUNTRIES',\n",
              "       'CAUSING DEATH BY NEGLIGENCE', 'OTHER IPC CRIMES', 'TOTAL IPC CRIMES'],\n",
              "      dtype='object')"
            ]
          },
          "metadata": {},
          "execution_count": 10
        }
      ]
    },
    {
      "cell_type": "code",
      "source": [
        "# removing total row from dataset\n",
        "\n",
        "df = data[data['DISTRICT'].str.contains('TOTAL')==False]\n",
        "df.shape"
      ],
      "metadata": {
        "colab": {
          "base_uri": "https://localhost:8080/"
        },
        "id": "ws5YXP4f7ugb",
        "outputId": "fec38c12-e7f0-4910-fe6f-d4b3a3f10193"
      },
      "execution_count": null,
      "outputs": [
        {
          "output_type": "execute_result",
          "data": {
            "text/plain": [
              "(8597, 33)"
            ]
          },
          "metadata": {},
          "execution_count": 11
        }
      ]
    },
    {
      "cell_type": "code",
      "source": [
        "# to check datatypes\n",
        "\n",
        "df.dtypes"
      ],
      "metadata": {
        "colab": {
          "base_uri": "https://localhost:8080/"
        },
        "id": "zvd4Z9688OWs",
        "outputId": "4ea91087-9286-4587-853b-1220ae7e4923"
      },
      "execution_count": null,
      "outputs": [
        {
          "output_type": "execute_result",
          "data": {
            "text/plain": [
              "STATE/UT                                               object\n",
              "DISTRICT                                               object\n",
              "YEAR                                                    int64\n",
              "MURDER                                                  int64\n",
              "ATTEMPT TO MURDER                                       int64\n",
              "CULPABLE HOMICIDE NOT AMOUNTING TO MURDER               int64\n",
              "RAPE                                                    int64\n",
              "CUSTODIAL RAPE                                          int64\n",
              "OTHER RAPE                                              int64\n",
              "KIDNAPPING & ABDUCTION                                  int64\n",
              "KIDNAPPING AND ABDUCTION OF WOMEN AND GIRLS             int64\n",
              "KIDNAPPING AND ABDUCTION OF OTHERS                      int64\n",
              "DACOITY                                                 int64\n",
              "PREPARATION AND ASSEMBLY FOR DACOITY                    int64\n",
              "ROBBERY                                                 int64\n",
              "BURGLARY                                                int64\n",
              "THEFT                                                   int64\n",
              "AUTO THEFT                                              int64\n",
              "OTHER THEFT                                             int64\n",
              "RIOTS                                                   int64\n",
              "CRIMINAL BREACH OF TRUST                                int64\n",
              "CHEATING                                                int64\n",
              "COUNTERFIETING                                          int64\n",
              "ARSON                                                   int64\n",
              "HURT/GREVIOUS HURT                                      int64\n",
              "DOWRY DEATHS                                            int64\n",
              "ASSAULT ON WOMEN WITH INTENT TO OUTRAGE HER MODESTY     int64\n",
              "INSULT TO MODESTY OF WOMEN                              int64\n",
              "CRUELTY BY HUSBAND OR HIS RELATIVES                     int64\n",
              "IMPORTATION OF GIRLS FROM FOREIGN COUNTRIES             int64\n",
              "CAUSING DEATH BY NEGLIGENCE                             int64\n",
              "OTHER IPC CRIMES                                        int64\n",
              "TOTAL IPC CRIMES                                        int64\n",
              "dtype: object"
            ]
          },
          "metadata": {},
          "execution_count": 12
        }
      ]
    },
    {
      "cell_type": "code",
      "source": [
        "District_names=df.DISTRICT.value_counts().index"
      ],
      "metadata": {
        "id": "1xltrE9k8jqb"
      },
      "execution_count": null,
      "outputs": []
    },
    {
      "cell_type": "code",
      "source": [
        "District_val=df.DISTRICT.value_counts().values"
      ],
      "metadata": {
        "id": "jYFdx94F9TXd"
      },
      "execution_count": null,
      "outputs": []
    },
    {
      "cell_type": "code",
      "source": [
        "plt.pie(District_val[:3],labels=District_names[:3],autopct='%1.2f%%')"
      ],
      "metadata": {
        "colab": {
          "base_uri": "https://localhost:8080/",
          "height": 404
        },
        "id": "_UtBNUJR9fz7",
        "outputId": "24c7c92c-b557-45ba-fd8b-2855ec1bc40a"
      },
      "execution_count": null,
      "outputs": [
        {
          "output_type": "execute_result",
          "data": {
            "text/plain": [
              "([<matplotlib.patches.Wedge at 0x7fcb2ecbcb90>,\n",
              "  <matplotlib.patches.Wedge at 0x7fcb2ec4b450>,\n",
              "  <matplotlib.patches.Wedge at 0x7fcb2ec4bcd0>],\n",
              " [Text(0.39420477013954197, 1.0269384593047586, 'G.R.P.'),\n",
              "  Text(-1.0696069220544058, -0.2567898601839649, 'SOUTH'),\n",
              "  Text(0.6230468493004778, -0.9065388152620647, 'NORTH')],\n",
              " [Text(0.2150207837124774, 0.5601482505298682, '38.33%'),\n",
              "  Text(-0.5834219574842213, -0.14006719646398083, '30.83%'),\n",
              "  Text(0.3398437359820788, -0.4944757174156716, '30.83%')])"
            ]
          },
          "metadata": {},
          "execution_count": 15
        },
        {
          "output_type": "display_data",
          "data": {
            "text/plain": [
              "<Figure size 432x288 with 1 Axes>"
            ],
            "image/png": "[encoded data removed]"
          },
          "metadata": {}
        }
      ]
    },
    {
      "cell_type": "markdown",
      "source": [
        "**Observation- The most crimes are held in south , north and g.r.p Districts**"
      ],
      "metadata": {
        "id": "YNUym06r_o9c"
      }
    },
    {
      "cell_type": "markdown",
      "source": [
        "note- ( south and north in dataset are in three states(sikkim , delhi , tripura) i.e. south and north  are district in small states ,said as like south delhi etc .\n",
        "\n",
        "insight - similar name district may occur in dataset"
      ],
      "metadata": {
        "id": "L5QZ_mfH__eY"
      }
    },
    {
      "cell_type": "code",
      "source": [
        "plt.pie(District_val[:10],labels=District_names[:10],autopct='%1.2f%%')"
      ],
      "metadata": {
        "colab": {
          "base_uri": "https://localhost:8080/",
          "height": 769
        },
        "id": "zkBSBzGU91RB",
        "outputId": "39fe4456-b4c5-4604-ee85-d1f084146b17"
      },
      "execution_count": null,
      "outputs": [
        {
          "output_type": "execute_result",
          "data": {
            "text/plain": [
              "([<matplotlib.patches.Wedge at 0x7fcb2e705290>,\n",
              "  <matplotlib.patches.Wedge at 0x7fcb2e705b10>,\n",
              "  <matplotlib.patches.Wedge at 0x7fcb2e70e3d0>,\n",
              "  <matplotlib.patches.Wedge at 0x7fcb2e70ecd0>,\n",
              "  <matplotlib.patches.Wedge at 0x7fcb2e718850>,\n",
              "  <matplotlib.patches.Wedge at 0x7fcb2e7231d0>,\n",
              "  <matplotlib.patches.Wedge at 0x7fcb2e723790>,\n",
              "  <matplotlib.patches.Wedge at 0x7fcb2e730050>,\n",
              "  <matplotlib.patches.Wedge at 0x7fcb2e718550>,\n",
              "  <matplotlib.patches.Wedge at 0x7fcb2e718e90>],\n",
              " [Text(0.9780344887511108, 0.50343672771596, 'G.R.P.'),\n",
              "  Text(0.25900003518286263, 1.0690738897640686, 'SOUTH'),\n",
              "  Text(-0.5532782775651881, 0.9507276937033542, 'NORTH'),\n",
              "  Text(-1.054270231864076, 0.31386984277765134, 'WEST'),\n",
              "  Text(-0.9931698293991718, -0.472878092082114, 'RAILWAYS'),\n",
              "  Text(-0.5434239046809067, -0.9563945105558463, 'HAMIRPUR'),\n",
              "  Text(-0.02273360760832579, -1.0997650581306495, 'BILASPUR'),\n",
              "  Text(0.5034366819308607, -0.9780345123186838, 'BALRAMPUR'),\n",
              "  Text(0.9082523113595211, -0.6205463229365618, 'EAST'),\n",
              "  Text(1.0830684719949095, -0.19225682034875166, 'PRATAPGARH')],\n",
              " [Text(0.5334733575006058, 0.27460185148143273, '15.13%'),\n",
              "  Text(0.1412727464633796, 0.5831312125985828, '12.17%'),\n",
              "  Text(-0.3017881513991935, 0.5185787420200113, '12.17%'),\n",
              "  Text(-0.5750564901076778, 0.17120173242417344, '11.84%'),\n",
              "  Text(-0.5417289978540936, -0.25793350477206217, '11.51%'),\n",
              "  Text(-0.2964130389168582, -0.5216697330304616, '7.89%'),\n",
              "  Text(-0.012400149604541338, -0.5998718498894451, '7.89%'),\n",
              "  Text(0.2746018265077422, -0.5334733703556456, '7.89%'),\n",
              "  Text(0.49541035165064784, -0.3384798125108518, '7.89%'),\n",
              "  Text(0.5907646210881323, -0.10486735655386453, '5.59%')])"
            ]
          },
          "metadata": {},
          "execution_count": 20
        },
        {
          "output_type": "display_data",
          "data": {
            "text/plain": [
              "<Figure size 432x288 with 1 Axes>"
            ],
            "image/png": "[encoded data removed]"
          },
          "metadata": {}
        }
      ]
    },
    {
      "cell_type": "markdown",
      "source": [
        "Other than ( north,south,g.r.p,west,railways - which has district as name in differnt states)  Hamirpur( U.P)  , Bilaspur (chhattisgarh) , Balrampur ( U.P.) are the districts which have highest no. of crimes held in past."
      ],
      "metadata": {
        "id": "EBRJr3bGC3-Q"
      }
    },
    {
      "cell_type": "code",
      "source": [
        "df[df['TOTAL IPC CRIMES' ] < 5].groupby('DISTRICT').size().reset_index()"
      ],
      "metadata": {
        "colab": {
          "base_uri": "https://localhost:8080/",
          "height": 175
        },
        "id": "slAw76RUETEg",
        "outputId": "ee140382-6572-4066-9bd9-8af13bb2dbb5"
      },
      "execution_count": null,
      "outputs": [
        {
          "output_type": "execute_result",
          "data": {
            "text/plain": [
              "         DISTRICT  0\n",
              "0             CID  7\n",
              "1          G.R.P.  3\n",
              "2  RAILWAYS KATRA  1\n",
              "3          S.T.F.  2"
            ],
            "text/html": [
              "\n",
              "  <div id=\"df-107bd883-d40a-447c-bad4-375e6aff00e8\">\n",
              "    <div class=\"colab-df-container\">\n",
              "      <div>\n",
              "<style scoped>\n",
              "    .dataframe tbody tr th:only-of-type {\n",
              "        vertical-align: middle;\n",
              "    }\n",
              "\n",
              "    .dataframe tbody tr th {\n",
              "        vertical-align: top;\n",
              "    }\n",
              "\n",
              "    .dataframe thead th {\n",
              "        text-align: right;\n",
              "    }\n",
              "</style>\n",
              "<table border=\"1\" class=\"dataframe\">\n",
              "  <thead>\n",
              "    <tr style=\"text-align: right;\">\n",
              "      <th></th>\n",
              "      <th>DISTRICT</th>\n",
              "      <th>0</th>\n",
              "    </tr>\n",
              "  </thead>\n",
              "  <tbody>\n",
              "    <tr>\n",
              "      <th>0</th>\n",
              "      <td>CID</td>\n",
              "      <td>7</td>\n",
              "    </tr>\n",
              "    <tr>\n",
              "      <th>1</th>\n",
              "      <td>G.R.P.</td>\n",
              "      <td>3</td>\n",
              "    </tr>\n",
              "    <tr>\n",
              "      <th>2</th>\n",
              "      <td>RAILWAYS KATRA</td>\n",
              "      <td>1</td>\n",
              "    </tr>\n",
              "    <tr>\n",
              "      <th>3</th>\n",
              "      <td>S.T.F.</td>\n",
              "      <td>2</td>\n",
              "    </tr>\n",
              "  </tbody>\n",
              "</table>\n",
              "</div>\n",
              "      <button class=\"colab-df-convert\" onclick=\"convertToInteractive('df-107bd883-d40a-447c-bad4-375e6aff00e8')\"\n",
              "              title=\"Convert this dataframe to an interactive table.\"\n",
              "              style=\"display:none;\">\n",
              "        \n",
              "  <svg xmlns=\"http://www.w3.org/2000/svg\" height=\"24px\"viewBox=\"0 0 24 24\"\n",
              "       width=\"24px\">\n",
              "    <path d=\"M0 0h24v24H0V0z\" fill=\"none\"/>\n",
              "    <path d=\"M18.56 5.44l.94 2.06.94-2.06 2.06-.94-2.06-.94-.94-2.06-.94 2.06-2.06.94zm-11 1L8.5 8.5l.94-2.06 2.06-.94-2.06-.94L8.5 2.5l-.94 2.06-2.06.94zm10 10l.94 2.06.94-2.06 2.06-.94-2.06-.94-.94-2.06-.94 2.06-2.06.94z\"/><path d=\"M17.41 7.96l-1.37-1.37c-.4-.4-.92-.59-1.43-.59-.52 0-1.04.2-1.43.59L10.3 9.45l-7.72 7.72c-.78.78-.78 2.05 0 2.83L4 21.41c.39.39.9.59 1.41.59.51 0 1.02-.2 1.41-.59l7.78-7.78 2.81-2.81c.8-.78.8-2.07 0-2.86zM5.41 20L4 18.59l7.72-7.72 1.47 1.35L5.41 20z\"/>\n",
              "  </svg>\n",
              "      </button>\n",
              "      \n",
              "  <style>\n",
              "    .colab-df-container {\n",
              "      display:flex;\n",
              "      flex-wrap:wrap;\n",
              "      gap: 12px;\n",
              "    }\n",
              "\n",
              "    .colab-df-convert {\n",
              "      background-color: #E8F0FE;\n",
              "      border: none;\n",
              "      border-radius: 50%;\n",
              "      cursor: pointer;\n",
              "      display: none;\n",
              "      fill: #1967D2;\n",
              "      height: 32px;\n",
              "      padding: 0 0 0 0;\n",
              "      width: 32px;\n",
              "    }\n",
              "\n",
              "    .colab-df-convert:hover {\n",
              "      background-color: #E2EBFA;\n",
              "      box-shadow: 0px 1px 2px rgba(60, 64, 67, 0.3), 0px 1px 3px 1px rgba(60, 64, 67, 0.15);\n",
              "      fill: #174EA6;\n",
              "    }\n",
              "\n",
              "    [theme=dark] .colab-df-convert {\n",
              "      background-color: #3B4455;\n",
              "      fill: #D2E3FC;\n",
              "    }\n",
              "\n",
              "    [theme=dark] .colab-df-convert:hover {\n",
              "      background-color: #434B5C;\n",
              "      box-shadow: 0px 1px 3px 1px rgba(0, 0, 0, 0.15);\n",
              "      filter: drop-shadow(0px 1px 2px rgba(0, 0, 0, 0.3));\n",
              "      fill: #FFFFFF;\n",
              "    }\n",
              "  </style>\n",
              "\n",
              "      <script>\n",
              "        const buttonEl =\n",
              "          document.querySelector('#df-107bd883-d40a-447c-bad4-375e6aff00e8 button.colab-df-convert');\n",
              "        buttonEl.style.display =\n",
              "          google.colab.kernel.accessAllowed ? 'block' : 'none';\n",
              "\n",
              "        async function convertToInteractive(key) {\n",
              "          const element = document.querySelector('#df-107bd883-d40a-447c-bad4-375e6aff00e8');\n",
              "          const dataTable =\n",
              "            await google.colab.kernel.invokeFunction('convertToInteractive',\n",
              "                                                     [key], {});\n",
              "          if (!dataTable) return;\n",
              "\n",
              "          const docLinkHtml = 'Like what you see? Visit the ' +\n",
              "            '<a target=\"_blank\" href=https://colab.research.google.com/notebooks/data_table.ipynb>data table notebook</a>'\n",
              "            + ' to learn more about interactive tables.';\n",
              "          element.innerHTML = '';\n",
              "          dataTable['output_type'] = 'display_data';\n",
              "          await google.colab.output.renderOutput(dataTable, element);\n",
              "          const docLink = document.createElement('div');\n",
              "          docLink.innerHTML = docLinkHtml;\n",
              "          element.appendChild(docLink);\n",
              "        }\n",
              "      </script>\n",
              "    </div>\n",
              "  </div>\n",
              "  "
            ]
          },
          "metadata": {},
          "execution_count": 25
        }
      ]
    },
    {
      "cell_type": "markdown",
      "source": [
        "**Observation - CID , G.R.P , RAILWAYS KATRA , S.T.F are the districts that has total ipc crimes observed in a year are less than 5 i.e they are more tight safety over there or people are more literate and good human beings.**\n",
        "\n",
        "among them out of 12 years - CID district got  recorded less than 5 crimes in 7 years which is highest than others."
      ],
      "metadata": {
        "id": "6fGMWfmAG7pQ"
      }
    },
    {
      "cell_type": "code",
      "source": [
        "df[['STATE/UT','DISTRICT']].groupby(['STATE/UT','DISTRICT']).size().reset_index()"
      ],
      "metadata": {
        "colab": {
          "base_uri": "https://localhost:8080/",
          "height": 424
        },
        "id": "1RlLM9kpIF1n",
        "outputId": "e0d653e0-9944-44b7-e4c3-55a1a7d7d1a9"
      },
      "execution_count": null,
      "outputs": [
        {
          "output_type": "execute_result",
          "data": {
            "text/plain": [
              "          STATE/UT         DISTRICT   0\n",
              "0    A & N ISLANDS  A and N ISLANDS   1\n",
              "1    A & N ISLANDS          ANDAMAN  10\n",
              "2    A & N ISLANDS              CAR   1\n",
              "3    A & N ISLANDS          NICOBAR  10\n",
              "4    A & N ISLANDS            NORTH   1\n",
              "..             ...              ...  ..\n",
              "822    WEST BENGAL          PURULIA  12\n",
              "823    WEST BENGAL   SEALDAH G.R.P.  12\n",
              "824    WEST BENGAL  SILIGURI G.R.P.  12\n",
              "825    WEST BENGAL      SILIGURI_PC   1\n",
              "826    WEST BENGAL   UTTAR DINAJPUR  12\n",
              "\n",
              "[827 rows x 3 columns]"
            ],
            "text/html": [
              "\n",
              "  <div id=\"df-c3b69b2e-105b-433f-a137-93614d9eddb3\">\n",
              "    <div class=\"colab-df-container\">\n",
              "      <div>\n",
              "<style scoped>\n",
              "    .dataframe tbody tr th:only-of-type {\n",
              "        vertical-align: middle;\n",
              "    }\n",
              "\n",
              "    .dataframe tbody tr th {\n",
              "        vertical-align: top;\n",
              "    }\n",
              "\n",
              "    .dataframe thead th {\n",
              "        text-align: right;\n",
              "    }\n",
              "</style>\n",
              "<table border=\"1\" class=\"dataframe\">\n",
              "  <thead>\n",
              "    <tr style=\"text-align: right;\">\n",
              "      <th></th>\n",
              "      <th>STATE/UT</th>\n",
              "      <th>DISTRICT</th>\n",
              "      <th>0</th>\n",
              "    </tr>\n",
              "  </thead>\n",
              "  <tbody>\n",
              "    <tr>\n",
              "      <th>0</th>\n",
              "      <td>A &amp; N ISLANDS</td>\n",
              "      <td>A and N ISLANDS</td>\n",
              "      <td>1</td>\n",
              "    </tr>\n",
              "    <tr>\n",
              "      <th>1</th>\n",
              "      <td>A &amp; N ISLANDS</td>\n",
              "      <td>ANDAMAN</td>\n",
              "      <td>10</td>\n",
              "    </tr>\n",
              "    <tr>\n",
              "      <th>2</th>\n",
              "      <td>A &amp; N ISLANDS</td>\n",
              "      <td>CAR</td>\n",
              "      <td>1</td>\n",
              "    </tr>\n",
              "    <tr>\n",
              "      <th>3</th>\n",
              "      <td>A &amp; N ISLANDS</td>\n",
              "      <td>NICOBAR</td>\n",
              "      <td>10</td>\n",
              "    </tr>\n",
              "    <tr>\n",
              "      <th>4</th>\n",
              "      <td>A &amp; N ISLANDS</td>\n",
              "      <td>NORTH</td>\n",
              "      <td>1</td>\n",
              "    </tr>\n",
              "    <tr>\n",
              "      <th>...</th>\n",
              "      <td>...</td>\n",
              "      <td>...</td>\n",
              "      <td>...</td>\n",
              "    </tr>\n",
              "    <tr>\n",
              "      <th>822</th>\n",
              "      <td>WEST BENGAL</td>\n",
              "      <td>PURULIA</td>\n",
              "      <td>12</td>\n",
              "    </tr>\n",
              "    <tr>\n",
              "      <th>823</th>\n",
              "      <td>WEST BENGAL</td>\n",
              "      <td>SEALDAH G.R.P.</td>\n",
              "      <td>12</td>\n",
              "    </tr>\n",
              "    <tr>\n",
              "      <th>824</th>\n",
              "      <td>WEST BENGAL</td>\n",
              "      <td>SILIGURI G.R.P.</td>\n",
              "      <td>12</td>\n",
              "    </tr>\n",
              "    <tr>\n",
              "      <th>825</th>\n",
              "      <td>WEST BENGAL</td>\n",
              "      <td>SILIGURI_PC</td>\n",
              "      <td>1</td>\n",
              "    </tr>\n",
              "    <tr>\n",
              "      <th>826</th>\n",
              "      <td>WEST BENGAL</td>\n",
              "      <td>UTTAR DINAJPUR</td>\n",
              "      <td>12</td>\n",
              "    </tr>\n",
              "  </tbody>\n",
              "</table>\n",
              "<p>827 rows × 3 columns</p>\n",
              "</div>\n",
              "      <button class=\"colab-df-convert\" onclick=\"convertToInteractive('df-c3b69b2e-105b-433f-a137-93614d9eddb3')\"\n",
              "              title=\"Convert this dataframe to an interactive table.\"\n",
              "              style=\"display:none;\">\n",
              "        \n",
              "  <svg xmlns=\"http://www.w3.org/2000/svg\" height=\"24px\"viewBox=\"0 0 24 24\"\n",
              "       width=\"24px\">\n",
              "    <path d=\"M0 0h24v24H0V0z\" fill=\"none\"/>\n",
              "    <path d=\"M18.56 5.44l.94 2.06.94-2.06 2.06-.94-2.06-.94-.94-2.06-.94 2.06-2.06.94zm-11 1L8.5 8.5l.94-2.06 2.06-.94-2.06-.94L8.5 2.5l-.94 2.06-2.06.94zm10 10l.94 2.06.94-2.06 2.06-.94-2.06-.94-.94-2.06-.94 2.06-2.06.94z\"/><path d=\"M17.41 7.96l-1.37-1.37c-.4-.4-.92-.59-1.43-.59-.52 0-1.04.2-1.43.59L10.3 9.45l-7.72 7.72c-.78.78-.78 2.05 0 2.83L4 21.41c.39.39.9.59 1.41.59.51 0 1.02-.2 1.41-.59l7.78-7.78 2.81-2.81c.8-.78.8-2.07 0-2.86zM5.41 20L4 18.59l7.72-7.72 1.47 1.35L5.41 20z\"/>\n",
              "  </svg>\n",
              "      </button>\n",
              "      \n",
              "  <style>\n",
              "    .colab-df-container {\n",
              "      display:flex;\n",
              "      flex-wrap:wrap;\n",
              "      gap: 12px;\n",
              "    }\n",
              "\n",
              "    .colab-df-convert {\n",
              "      background-color: #E8F0FE;\n",
              "      border: none;\n",
              "      border-radius: 50%;\n",
              "      cursor: pointer;\n",
              "      display: none;\n",
              "      fill: #1967D2;\n",
              "      height: 32px;\n",
              "      padding: 0 0 0 0;\n",
              "      width: 32px;\n",
              "    }\n",
              "\n",
              "    .colab-df-convert:hover {\n",
              "      background-color: #E2EBFA;\n",
              "      box-shadow: 0px 1px 2px rgba(60, 64, 67, 0.3), 0px 1px 3px 1px rgba(60, 64, 67, 0.15);\n",
              "      fill: #174EA6;\n",
              "    }\n",
              "\n",
              "    [theme=dark] .colab-df-convert {\n",
              "      background-color: #3B4455;\n",
              "      fill: #D2E3FC;\n",
              "    }\n",
              "\n",
              "    [theme=dark] .colab-df-convert:hover {\n",
              "      background-color: #434B5C;\n",
              "      box-shadow: 0px 1px 3px 1px rgba(0, 0, 0, 0.15);\n",
              "      filter: drop-shadow(0px 1px 2px rgba(0, 0, 0, 0.3));\n",
              "      fill: #FFFFFF;\n",
              "    }\n",
              "  </style>\n",
              "\n",
              "      <script>\n",
              "        const buttonEl =\n",
              "          document.querySelector('#df-c3b69b2e-105b-433f-a137-93614d9eddb3 button.colab-df-convert');\n",
              "        buttonEl.style.display =\n",
              "          google.colab.kernel.accessAllowed ? 'block' : 'none';\n",
              "\n",
              "        async function convertToInteractive(key) {\n",
              "          const element = document.querySelector('#df-c3b69b2e-105b-433f-a137-93614d9eddb3');\n",
              "          const dataTable =\n",
              "            await google.colab.kernel.invokeFunction('convertToInteractive',\n",
              "                                                     [key], {});\n",
              "          if (!dataTable) return;\n",
              "\n",
              "          const docLinkHtml = 'Like what you see? Visit the ' +\n",
              "            '<a target=\"_blank\" href=https://colab.research.google.com/notebooks/data_table.ipynb>data table notebook</a>'\n",
              "            + ' to learn more about interactive tables.';\n",
              "          element.innerHTML = '';\n",
              "          dataTable['output_type'] = 'display_data';\n",
              "          await google.colab.output.renderOutput(dataTable, element);\n",
              "          const docLink = document.createElement('div');\n",
              "          docLink.innerHTML = docLinkHtml;\n",
              "          element.appendChild(docLink);\n",
              "        }\n",
              "      </script>\n",
              "    </div>\n",
              "  </div>\n",
              "  "
            ]
          },
          "metadata": {},
          "execution_count": 30
        }
      ]
    },
    {
      "cell_type": "code",
      "source": [
        "df.rename(columns={'STATE/UT':'STATE'}, inplace=True)"
      ],
      "metadata": {
        "colab": {
          "base_uri": "https://localhost:8080/"
        },
        "id": "sEZKjBsgLEAn",
        "outputId": "88140968-9f9c-443f-e839-6addac47a11a"
      },
      "execution_count": null,
      "outputs": [
        {
          "output_type": "stream",
          "name": "stderr",
          "text": [
            "/usr/local/lib/python3.7/dist-packages/pandas/core/frame.py:5047: SettingWithCopyWarning: \n",
            "A value is trying to be set on a copy of a slice from a DataFrame\n",
            "\n",
            "See the caveats in the documentation: https://pandas.pydata.org/pandas-docs/stable/user_guide/indexing.html#returning-a-view-versus-a-copy\n",
            "  errors=errors,\n"
          ]
        }
      ]
    },
    {
      "cell_type": "code",
      "source": [
        "# way to check in which state/states does district exist\n",
        "\n",
        "df[df['DISTRICT'] ==\"NORTH\"].STATE.value_counts()"
      ],
      "metadata": {
        "colab": {
          "base_uri": "https://localhost:8080/"
        },
        "id": "zciH9yJLJr5L",
        "outputId": "abee7150-e66a-4fab-cbb3-d8872477ae46"
      },
      "execution_count": null,
      "outputs": [
        {
          "output_type": "execute_result",
          "data": {
            "text/plain": [
              "SIKKIM           12\n",
              "TRIPURA          12\n",
              "DELHI UT         12\n",
              "A & N ISLANDS     1\n",
              "Name: STATE, dtype: int64"
            ]
          },
          "metadata": {},
          "execution_count": 41
        }
      ]
    },
    {
      "cell_type": "markdown",
      "source": [
        "Observation - north (sikkim , tripura , delhi/ut , a&n island) "
      ],
      "metadata": {
        "id": "Uq8y6SR7L5BR"
      }
    },
    {
      "cell_type": "code",
      "source": [
        "## Create a pie chart for top 5 state Distribution."
      ],
      "metadata": {
        "id": "FPeicMpfMLD8"
      },
      "execution_count": null,
      "outputs": []
    },
    {
      "cell_type": "code",
      "source": [
        "df.STATE.value_counts().index"
      ],
      "metadata": {
        "colab": {
          "base_uri": "https://localhost:8080/"
        },
        "id": "XFewVB5HM1Px",
        "outputId": "eb952e66-ccd2-43c7-ef27-c9774580581b"
      },
      "execution_count": null,
      "outputs": [
        {
          "output_type": "execute_result",
          "data": {
            "text/plain": [
              "Index(['UTTAR PRADESH', 'MADHYA PRADESH', 'MAHARASHTRA', 'BIHAR', 'TAMIL NADU',\n",
              "       'RAJASTHAN', 'ODISHA', 'KARNATAKA', 'GUJARAT', 'ANDHRA PRADESH',\n",
              "       'ASSAM', 'JAMMU & KASHMIR', 'PUNJAB', 'JHARKHAND', 'WEST BENGAL',\n",
              "       'HARYANA', 'CHHATTISGARH', 'KERALA', 'ARUNACHAL PRADESH', 'DELHI UT',\n",
              "       'HIMACHAL PRADESH', 'UTTARAKHAND', 'NAGALAND', 'MANIPUR', 'MIZORAM',\n",
              "       'MEGHALAYA', 'TRIPURA', 'SIKKIM', 'A & N ISLANDS', 'DAMAN & DIU', 'GOA',\n",
              "       'PUDUCHERRY', 'CHANDIGARH', 'D & N HAVELI', 'LAKSHADWEEP'],\n",
              "      dtype='object')"
            ]
          },
          "metadata": {},
          "execution_count": 37
        }
      ]
    },
    {
      "cell_type": "code",
      "source": [
        "State_values=df.STATE.value_counts().values\n",
        "State_labels=df.STATE.value_counts().index"
      ],
      "metadata": {
        "id": "YFxJNrGEM9Aj"
      },
      "execution_count": null,
      "outputs": []
    },
    {
      "cell_type": "code",
      "source": [
        "plt.pie(State_values[:5],labels=State_labels[:5],autopct='%1.2f%%')"
      ],
      "metadata": {
        "colab": {
          "base_uri": "https://localhost:8080/",
          "height": 508
        },
        "id": "V6goUc5VNPWn",
        "outputId": "2fc0b56f-34b0-467e-c350-5b4f46aae4b8"
      },
      "execution_count": null,
      "outputs": [
        {
          "output_type": "execute_result",
          "data": {
            "text/plain": [
              "([<matplotlib.patches.Wedge at 0x7fcb2e5add10>,\n",
              "  <matplotlib.patches.Wedge at 0x7fcb2e5ba5d0>,\n",
              "  <matplotlib.patches.Wedge at 0x7fcb2e5bae50>,\n",
              "  <matplotlib.patches.Wedge at 0x7fcb2e541790>,\n",
              "  <matplotlib.patches.Wedge at 0x7fcb2e54d310>],\n",
              " [Text(0.6796600223251067, 0.8649059220823012, 'UTTAR PRADESH'),\n",
              "  Text(-0.84942227538877, 0.698914728756924, 'MADHYA PRADESH'),\n",
              "  Text(-0.9550131487188008, -0.5458478595489789, 'MAHARASHTRA'),\n",
              "  Text(0.07062937031864869, -1.0977301544771334, 'BIHAR'),\n",
              "  Text(0.976983894227955, -0.5054725219229828, 'TAMIL NADU')],\n",
              " [Text(0.3707236485409673, 0.47176686659034606, '28.80%'),\n",
              "  Text(-0.46332124112114725, 0.38122621568559484, '20.49%'),\n",
              "  Text(-0.5209162629375277, -0.29773519611762483, '17.96%'),\n",
              "  Text(0.03852511108289928, -0.5987619024420727, '17.56%'),\n",
              "  Text(0.5329003059425208, -0.2757122846852633, '15.20%')])"
            ]
          },
          "metadata": {},
          "execution_count": 39
        },
        {
          "output_type": "display_data",
          "data": {
            "text/plain": [
              "<Figure size 432x288 with 1 Axes>"
            ],
            "image/png": "[encoded data removed]"
          },
          "metadata": {}
        }
      ]
    },
    {
      "cell_type": "code",
      "source": [
        "States = df.STATE.unique()\n",
        "len(States)"
      ],
      "metadata": {
        "colab": {
          "base_uri": "https://localhost:8080/"
        },
        "id": "gJU9oGivPEws",
        "outputId": "b001e5fe-725b-456e-8545-ae14574ecccf"
      },
      "execution_count": null,
      "outputs": [
        {
          "output_type": "execute_result",
          "data": {
            "text/plain": [
              "35"
            ]
          },
          "metadata": {},
          "execution_count": 47
        }
      ]
    },
    {
      "cell_type": "code",
      "source": [
        "States_by_crime = df.STATE.value_counts()\n",
        "States_by_crime"
      ],
      "metadata": {
        "colab": {
          "base_uri": "https://localhost:8080/"
        },
        "id": "wE-q9VgTQKXM",
        "outputId": "e0ae56d9-2c23-466e-dfe6-10b0419b8444"
      },
      "execution_count": null,
      "outputs": [
        {
          "output_type": "execute_result",
          "data": {
            "text/plain": [
              "UTTAR PRADESH        866\n",
              "MADHYA PRADESH       616\n",
              "MAHARASHTRA          540\n",
              "BIHAR                528\n",
              "TAMIL NADU           457\n",
              "RAJASTHAN            442\n",
              "ODISHA               418\n",
              "KARNATAKA            387\n",
              "GUJARAT              372\n",
              "ANDHRA PRADESH       358\n",
              "ASSAM                350\n",
              "JAMMU & KASHMIR      310\n",
              "PUNJAB               302\n",
              "JHARKHAND            300\n",
              "WEST BENGAL          297\n",
              "HARYANA              256\n",
              "CHHATTISGARH         254\n",
              "KERALA               221\n",
              "ARUNACHAL PRADESH    183\n",
              "DELHI UT             171\n",
              "HIMACHAL PRADESH     164\n",
              "UTTARAKHAND          156\n",
              "NAGALAND             126\n",
              "MANIPUR              113\n",
              "MIZORAM               96\n",
              "MEGHALAYA             84\n",
              "TRIPURA               55\n",
              "SIKKIM                48\n",
              "A & N ISLANDS         24\n",
              "DAMAN & DIU           24\n",
              "GOA                   24\n",
              "PUDUCHERRY            19\n",
              "CHANDIGARH            12\n",
              "D & N HAVELI          12\n",
              "LAKSHADWEEP           12\n",
              "Name: STATE, dtype: int64"
            ]
          },
          "metadata": {},
          "execution_count": 48
        }
      ]
    },
    {
      "cell_type": "code",
      "source": [
        "States_by_crime[:5]"
      ],
      "metadata": {
        "colab": {
          "base_uri": "https://localhost:8080/"
        },
        "id": "Cq-PXTIsQs4W",
        "outputId": "97eccf87-c2a5-4c51-ce87-2f9d93029212"
      },
      "execution_count": null,
      "outputs": [
        {
          "output_type": "execute_result",
          "data": {
            "text/plain": [
              "UTTAR PRADESH     866\n",
              "MADHYA PRADESH    616\n",
              "MAHARASHTRA       540\n",
              "BIHAR             528\n",
              "TAMIL NADU        457\n",
              "Name: STATE, dtype: int64"
            ]
          },
          "metadata": {},
          "execution_count": 49
        }
      ]
    },
    {
      "cell_type": "code",
      "source": [
        "States_by_crime[:20].plot(kind='barh')"
      ],
      "metadata": {
        "colab": {
          "base_uri": "https://localhost:8080/",
          "height": 282
        },
        "id": "l-Ln5QhYQ0VC",
        "outputId": "1743baa6-e071-4d62-d579-ad9adcbfe670"
      },
      "execution_count": null,
      "outputs": [
        {
          "output_type": "execute_result",
          "data": {
            "text/plain": [
              "<matplotlib.axes._subplots.AxesSubplot at 0x7fcb2becdb90>"
            ]
          },
          "metadata": {},
          "execution_count": 51
        },
        {
          "output_type": "display_data",
          "data": {
            "text/plain": [
              "<Figure size 432x288 with 1 Axes>"
            ],
            "image/png": "[encoded data removed]"
          },
          "metadata": {
            "needs_background": "light"
          }
        }
      ]
    },
    {
      "cell_type": "code",
      "source": [
        "import seaborn as sns\n",
        "sns.set_style(\"darkgrid\")\n",
        "sns.histplot(States_by_crime, log_scale=True)"
      ],
      "metadata": {
        "colab": {
          "base_uri": "https://localhost:8080/",
          "height": 300
        },
        "id": "RTsVbq4FRD3u",
        "outputId": "16bfb6af-9b41-4d91-af48-76728f4c7ccf"
      },
      "execution_count": null,
      "outputs": [
        {
          "output_type": "execute_result",
          "data": {
            "text/plain": [
              "<matplotlib.axes._subplots.AxesSubplot at 0x7fcb2bdd03d0>"
            ]
          },
          "metadata": {},
          "execution_count": 52
        },
        {
          "output_type": "display_data",
          "data": {
            "text/plain": [
              "<Figure size 432x288 with 1 Axes>"
            ],
            "image/png": "[encoded data removed]"
          },
          "metadata": {}
        }
      ]
    }
  ]
}